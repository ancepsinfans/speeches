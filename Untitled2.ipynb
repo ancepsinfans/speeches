{
 "cells": [
  {
   "cell_type": "code",
   "execution_count": 2,
   "id": "downtown-western",
   "metadata": {},
   "outputs": [],
   "source": [
    "import json\n",
    "\n",
    "with open('comb_apr_2021.json','r') as openfile:\n",
    "    cleanjob = json.load(openfile)"
   ]
  },
  {
   "cell_type": "code",
   "execution_count": 3,
   "id": "favorite-netherlands",
   "metadata": {},
   "outputs": [],
   "source": [
    "pols = [*cleanjob]\n",
    "\n",
    "for y in range(len(pols)):\n",
    "    for x in range(len(cleanjob[pols[y]])):\n",
    "        cleanjob[pols[y]][x] = cleanjob[pols[y]][x].replace('\\n','').replace('BREAK IN TRANSCRIPT','').replace('Source','').replace('  ',' ').replace('  ',' ').strip()\n",
    "\n",
    "for x in range(len(pols)):\n",
    "    cleanjob[pols[x]] = [y for y in cleanjob[pols[x]] if y!='']"
   ]
  },
  {
   "cell_type": "code",
   "execution_count": 4,
   "id": "activated-belarus",
   "metadata": {},
   "outputs": [],
   "source": [
    "class Talk:\n",
    "    \"\"\"New attempt\"\"\"\n",
    "    def __init__(self, raw, person):\n",
    "        self.raw = raw\n",
    "        self.person = person\n",
    "        self.skolko = len(self.raw)\n",
    "        self.flat = ' '.join(self.raw)"
   ]
  },
  {
   "cell_type": "code",
   "execution_count": 14,
   "id": "infectious-skiing",
   "metadata": {
    "scrolled": true,
    "tags": []
   },
   "outputs": [],
   "source": [
    "test = {}\n",
    "for x in range(len(pols)):\n",
    "    test[x] = Talk(cleanjob[pols[x]],pols[x])"
   ]
  },
  {
   "cell_type": "code",
   "execution_count": null,
   "id": "funded-hostel",
   "metadata": {
    "scrolled": true,
    "tags": []
   },
   "outputs": [],
   "source": [
    "test[3].flat"
   ]
  },
  {
   "cell_type": "code",
   "execution_count": null,
   "id": "handed-remove",
   "metadata": {
    "scrolled": true,
    "tags": []
   },
   "outputs": [],
   "source": [
    "import spacy\n",
    "\n",
    "nlp = spacy.load('en_core_web_sm')\n",
    "\n",
    "stop_words = spacy.lang.en.STOP_WORDS\n",
    "stop_words.update(['nt','m','s','wikipedia','article','articles','im','page'])\n",
    "\n",
    "docset = {}\n",
    "for x in range(len(test)):\n",
    "    docset[x] = nlp(test[x].flat)"
   ]
  },
  {
   "cell_type": "code",
   "execution_count": 7,
   "id": "administrative-tribune",
   "metadata": {},
   "outputs": [],
   "source": [
    "import warnings\n",
    "\n",
    "warnings.filterwarnings(\"ignore\", message=r\"\\[W007\\]\", category=UserWarning)\n",
    "\n",
    "\n",
    "from spacy import displacy\n",
    "\n",
    "sents =list(doc.sents)\n",
    "# pie = sents[:10]\n",
    "# displacy.serve(pie, style='dep')"
   ]
  },
  {
   "cell_type": "code",
   "execution_count": 8,
   "id": "classical-currency",
   "metadata": {},
   "outputs": [],
   "source": [
    "def distants(y,where=docset,nearest=True, printr=False):\n",
    "    if nearest:\n",
    "        l,n = 0,0\n",
    "        for x in range(1,len(where)):\n",
    "            if 1 > abs(where[y].similarity(where[x])) > l:\n",
    "                l = where[y].similarity(where[x])\n",
    "                n = x\n",
    "\n",
    "        if printr:\n",
    "            print(l)\n",
    "            print(where[y])\n",
    "            print(where[n])\n",
    "        \n",
    "        return (n,l,y)\n",
    "    \n",
    "    else:    \n",
    "        l,n = 1,0\n",
    "        for x in range(1,len(where)):\n",
    "            if 1 < abs(where[y].similarity(where[x])) < l:\n",
    "                l = where[y].similarity(where[x])\n",
    "                n = x\n",
    "        \n",
    "        if printr:\n",
    "            print(l)\n",
    "            print(where[y])\n",
    "            print(where[n])\n",
    "        \n",
    "        return (n,l,y)"
   ]
  },
  {
   "cell_type": "code",
   "execution_count": 10,
   "id": "numerical-austria",
   "metadata": {
    "scrolled": true,
    "tags": []
   },
   "outputs": [
    {
     "name": "stdout",
     "output_type": "stream",
     "text": [
      "This is a good product.\n",
      "This is a good bill.\n"
     ]
    }
   ],
   "source": [
    "l = []\n",
    "for x in range(len(sents)):\n",
    "    l.append(distants(x))\n",
    "\n",
    "l.sort(key=lambda a: a[1])\n",
    "print(sents[l[-1][0]])\n",
    "print(sents[l[-1][2]])"
   ]
  },
  {
   "cell_type": "code",
   "execution_count": 13,
   "id": "accepted-motion",
   "metadata": {},
   "outputs": [
    {
     "name": "stdout",
     "output_type": "stream",
     "text": [
      "If not now, when?\n",
      "Why?\n"
     ]
    }
   ],
   "source": [
    "x=0\n",
    "print(sents[l[-x][0]])\n",
    "print(sents[l[-x][2]])"
   ]
  },
  {
   "cell_type": "code",
   "execution_count": null,
   "id": "monthly-timber",
   "metadata": {},
   "outputs": [],
   "source": [
    "l"
   ]
  }
 ],
 "metadata": {
  "kernelspec": {
   "display_name": "Python 3",
   "language": "python",
   "name": "python3"
  },
  "language_info": {
   "codemirror_mode": {
    "name": "ipython",
    "version": 3
   },
   "file_extension": ".py",
   "mimetype": "text/x-python",
   "name": "python",
   "nbconvert_exporter": "python",
   "pygments_lexer": "ipython3",
   "version": "3.9.1"
  }
 },
 "nbformat": 4,
 "nbformat_minor": 5
}
