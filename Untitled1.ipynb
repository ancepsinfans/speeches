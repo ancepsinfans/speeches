{
 "cells": [
  {
   "cell_type": "code",
   "execution_count": 6,
   "id": "medieval-skiing",
   "metadata": {},
   "outputs": [
    {
     "data": {
      "text/plain": [
       "Index(['person', 'age', 'gender', 'sents', 'wordcount', 'noun', 'verb', 'adj',\n",
       "       'adv', 'intj', 'pron', 'wh', 'conj', 'prep', 'short sent', 'long sent',\n",
       "       'short word', 'long word', 'frag', '# diff', '% func words', 'selfish',\n",
       "       '# unique', '% unique no func', '% joy', '% surprise', '% anticipation',\n",
       "       '% anger', '% fear', '% trust', '% disgust', '% sadness', 'loc fear',\n",
       "       'glb fear', 'loc joy', 'glb joy', 'loc trust', 'glb trust',\n",
       "       'loc surprise', 'glb surprise', 'loc disgust', 'glb disgust',\n",
       "       'loc anticipation', 'glb anticipation', 'loc anger', 'glb anger',\n",
       "       'loc sadness', 'glb sadness', 'loc valence', 'glb valence',\n",
       "       'loc arousal', 'glb arousal', 'loc dominance', 'glb dominance',\n",
       "       'loc humor', 'glb humor', 'loc humor M', 'glb humor M', 'loc humor F',\n",
       "       'glb humor F', 'loc humor young', 'glb humor young', 'loc humor old',\n",
       "       'glb humor old', '% humor', '% VAD', 'short/long', 'words/sent',\n",
       "       'conj/sent', 'verb/noun', 'noun/pron', '% diff w/func',\n",
       "       '% unique w/func', 'misc words', '% frag'],\n",
       "      dtype='object')"
      ]
     },
     "execution_count": 6,
     "metadata": {},
     "output_type": "execute_result"
    }
   ],
   "source": [
    "# All imports\n",
    "import urllib.request as ul\n",
    "from bs4 import BeautifulSoup\n",
    "import requests\n",
    "import re\n",
    "import datetime \n",
    "import pandas as pd\n",
    "import numpy as np\n",
    "import matplotlib.pyplot as plt\n",
    "import seaborn as sns\n",
    "from scipy.stats import zscore\n",
    "\n",
    "allsens = pd.read_pickle('allsens.pkl')\n",
    "allsens.columns"
   ]
  }
 ],
 "metadata": {
  "kernelspec": {
   "display_name": "Python 3",
   "language": "python",
   "name": "python3"
  },
  "language_info": {
   "codemirror_mode": {
    "name": "ipython",
    "version": 3
   },
   "file_extension": ".py",
   "mimetype": "text/x-python",
   "name": "python",
   "nbconvert_exporter": "python",
   "pygments_lexer": "ipython3",
   "version": "3.9.1"
  }
 },
 "nbformat": 4,
 "nbformat_minor": 5
}
